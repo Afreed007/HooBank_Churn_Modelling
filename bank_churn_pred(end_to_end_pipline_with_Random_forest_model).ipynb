{
 "cells": [
  {
   "cell_type": "code",
   "execution_count": 196,
   "id": "5430d4ed-955d-4159-ba0a-8ecb99bb8ab0",
   "metadata": {
    "executionInfo": {
     "elapsed": 53,
     "status": "ok",
     "timestamp": 1761061707719,
     "user": {
      "displayName": "Mohammed Afreed Pasha",
      "userId": "17679094173617410010"
     },
     "user_tz": -330
    },
    "id": "5430d4ed-955d-4159-ba0a-8ecb99bb8ab0"
   },
   "outputs": [],
   "source": [
    "import pandas as pd\n",
    "import numpy as np\n",
    "import matplotlib.pyplot as plt\n",
    "import seaborn as sns\n",
    "from sklearn.model_selection import train_test_split , RandomizedSearchCV\n",
    "from sklearn.preprocessing import StandardScaler , LabelEncoder\n",
    "from sklearn.ensemble import RandomForestClassifier\n",
    "from sklearn.linear_model import LogisticRegression\n",
    "from sklearn.svm import SVC\n",
    "from sklearn.neighbors import KNeighborsClassifier\n",
    "from sklearn.metrics import roc_auc_score, f1_score, classification_report , confusion_matrix , accuracy_score\n",
    "import joblib\n"
   ]
  },
  {
   "cell_type": "code",
   "execution_count": 198,
   "id": "0fddc4f0-bb65-48d4-aac4-f1adb7b690a4",
   "metadata": {
    "colab": {
     "base_uri": "https://localhost:8080/",
     "height": 163
    },
    "executionInfo": {
     "elapsed": 106,
     "status": "ok",
     "timestamp": 1761061710248,
     "user": {
      "displayName": "Mohammed Afreed Pasha",
      "userId": "17679094173617410010"
     },
     "user_tz": -330
    },
    "id": "0fddc4f0-bb65-48d4-aac4-f1adb7b690a4",
    "outputId": "1dd91b57-d671-48fb-8c29-174ce140295a"
   },
   "outputs": [
    {
     "data": {
      "text/html": [
       "<div>\n",
       "<style scoped>\n",
       "    .dataframe tbody tr th:only-of-type {\n",
       "        vertical-align: middle;\n",
       "    }\n",
       "\n",
       "    .dataframe tbody tr th {\n",
       "        vertical-align: top;\n",
       "    }\n",
       "\n",
       "    .dataframe thead th {\n",
       "        text-align: right;\n",
       "    }\n",
       "</style>\n",
       "<table border=\"1\" class=\"dataframe\">\n",
       "  <thead>\n",
       "    <tr style=\"text-align: right;\">\n",
       "      <th></th>\n",
       "      <th>RowNumber</th>\n",
       "      <th>CustomerId</th>\n",
       "      <th>Surname</th>\n",
       "      <th>CreditScore</th>\n",
       "      <th>Geography</th>\n",
       "      <th>Gender</th>\n",
       "      <th>Age</th>\n",
       "      <th>Tenure</th>\n",
       "      <th>Balance</th>\n",
       "      <th>NumOfProducts</th>\n",
       "      <th>HasCrCard</th>\n",
       "      <th>IsActiveMember</th>\n",
       "      <th>EstimatedSalary</th>\n",
       "      <th>Exited</th>\n",
       "    </tr>\n",
       "  </thead>\n",
       "  <tbody>\n",
       "    <tr>\n",
       "      <th>0</th>\n",
       "      <td>1</td>\n",
       "      <td>15634602</td>\n",
       "      <td>Hargrave</td>\n",
       "      <td>619</td>\n",
       "      <td>France</td>\n",
       "      <td>Female</td>\n",
       "      <td>42</td>\n",
       "      <td>2</td>\n",
       "      <td>0.00</td>\n",
       "      <td>1</td>\n",
       "      <td>1</td>\n",
       "      <td>1</td>\n",
       "      <td>101348.88</td>\n",
       "      <td>1</td>\n",
       "    </tr>\n",
       "    <tr>\n",
       "      <th>1</th>\n",
       "      <td>2</td>\n",
       "      <td>15647311</td>\n",
       "      <td>Hill</td>\n",
       "      <td>608</td>\n",
       "      <td>Spain</td>\n",
       "      <td>Female</td>\n",
       "      <td>41</td>\n",
       "      <td>1</td>\n",
       "      <td>83807.86</td>\n",
       "      <td>1</td>\n",
       "      <td>0</td>\n",
       "      <td>1</td>\n",
       "      <td>112542.58</td>\n",
       "      <td>0</td>\n",
       "    </tr>\n",
       "    <tr>\n",
       "      <th>2</th>\n",
       "      <td>3</td>\n",
       "      <td>15619304</td>\n",
       "      <td>Onio</td>\n",
       "      <td>502</td>\n",
       "      <td>France</td>\n",
       "      <td>Female</td>\n",
       "      <td>42</td>\n",
       "      <td>8</td>\n",
       "      <td>159660.80</td>\n",
       "      <td>3</td>\n",
       "      <td>1</td>\n",
       "      <td>0</td>\n",
       "      <td>113931.57</td>\n",
       "      <td>1</td>\n",
       "    </tr>\n",
       "  </tbody>\n",
       "</table>\n",
       "</div>"
      ],
      "text/plain": [
       "   RowNumber  CustomerId   Surname  CreditScore Geography  Gender  Age  \\\n",
       "0          1    15634602  Hargrave          619    France  Female   42   \n",
       "1          2    15647311      Hill          608     Spain  Female   41   \n",
       "2          3    15619304      Onio          502    France  Female   42   \n",
       "\n",
       "   Tenure    Balance  NumOfProducts  HasCrCard  IsActiveMember  \\\n",
       "0       2       0.00              1          1               1   \n",
       "1       1   83807.86              1          0               1   \n",
       "2       8  159660.80              3          1               0   \n",
       "\n",
       "   EstimatedSalary  Exited  \n",
       "0        101348.88       1  \n",
       "1        112542.58       0  \n",
       "2        113931.57       1  "
      ]
     },
     "execution_count": 198,
     "metadata": {},
     "output_type": "execute_result"
    }
   ],
   "source": [
    "df = pd.read_csv('Churn_Modelling.csv')\n",
    "df.head(3)"
   ]
  },
  {
   "cell_type": "code",
   "execution_count": 200,
   "id": "5acfaa6b-5194-426f-9af2-d8cc7b0a3a64",
   "metadata": {
    "colab": {
     "base_uri": "https://localhost:8080/"
    },
    "executionInfo": {
     "elapsed": 24,
     "status": "ok",
     "timestamp": 1761061713462,
     "user": {
      "displayName": "Mohammed Afreed Pasha",
      "userId": "17679094173617410010"
     },
     "user_tz": -330
    },
    "id": "5acfaa6b-5194-426f-9af2-d8cc7b0a3a64",
    "outputId": "b36ea746-f2fa-44fa-98ac-06f024085057"
   },
   "outputs": [
    {
     "name": "stdout",
     "output_type": "stream",
     "text": [
      "<class 'pandas.core.frame.DataFrame'>\n",
      "RangeIndex: 10000 entries, 0 to 9999\n",
      "Data columns (total 14 columns):\n",
      " #   Column           Non-Null Count  Dtype  \n",
      "---  ------           --------------  -----  \n",
      " 0   RowNumber        10000 non-null  int64  \n",
      " 1   CustomerId       10000 non-null  int64  \n",
      " 2   Surname          10000 non-null  object \n",
      " 3   CreditScore      10000 non-null  int64  \n",
      " 4   Geography        10000 non-null  object \n",
      " 5   Gender           10000 non-null  object \n",
      " 6   Age              10000 non-null  int64  \n",
      " 7   Tenure           10000 non-null  int64  \n",
      " 8   Balance          10000 non-null  float64\n",
      " 9   NumOfProducts    10000 non-null  int64  \n",
      " 10  HasCrCard        10000 non-null  int64  \n",
      " 11  IsActiveMember   10000 non-null  int64  \n",
      " 12  EstimatedSalary  10000 non-null  float64\n",
      " 13  Exited           10000 non-null  int64  \n",
      "dtypes: float64(2), int64(9), object(3)\n",
      "memory usage: 1.1+ MB\n"
     ]
    }
   ],
   "source": [
    "df.info()"
   ]
  },
  {
   "cell_type": "code",
   "execution_count": 202,
   "id": "c705df23-519d-4485-8678-121d663d3a57",
   "metadata": {
    "colab": {
     "base_uri": "https://localhost:8080/",
     "height": 523
    },
    "executionInfo": {
     "elapsed": 18,
     "status": "ok",
     "timestamp": 1761061715538,
     "user": {
      "displayName": "Mohammed Afreed Pasha",
      "userId": "17679094173617410010"
     },
     "user_tz": -330
    },
    "id": "c705df23-519d-4485-8678-121d663d3a57",
    "outputId": "d8a2c3d2-61f5-40f7-e1af-7be23ccd4996"
   },
   "outputs": [
    {
     "data": {
      "text/plain": [
       "RowNumber          0\n",
       "CustomerId         0\n",
       "Surname            0\n",
       "CreditScore        0\n",
       "Geography          0\n",
       "Gender             0\n",
       "Age                0\n",
       "Tenure             0\n",
       "Balance            0\n",
       "NumOfProducts      0\n",
       "HasCrCard          0\n",
       "IsActiveMember     0\n",
       "EstimatedSalary    0\n",
       "Exited             0\n",
       "dtype: int64"
      ]
     },
     "execution_count": 202,
     "metadata": {},
     "output_type": "execute_result"
    }
   ],
   "source": [
    "df.isnull().sum()"
   ]
  },
  {
   "cell_type": "code",
   "execution_count": 204,
   "id": "3e69e77e-89ca-4801-9be1-73e508845b43",
   "metadata": {
    "colab": {
     "base_uri": "https://localhost:8080/",
     "height": 73
    },
    "executionInfo": {
     "elapsed": 19,
     "status": "ok",
     "timestamp": 1761061717452,
     "user": {
      "displayName": "Mohammed Afreed Pasha",
      "userId": "17679094173617410010"
     },
     "user_tz": -330
    },
    "id": "3e69e77e-89ca-4801-9be1-73e508845b43",
    "outputId": "29c1b244-0767-4dc5-ded8-76188996f9cd"
   },
   "outputs": [
    {
     "data": {
      "text/html": [
       "<div>\n",
       "<style scoped>\n",
       "    .dataframe tbody tr th:only-of-type {\n",
       "        vertical-align: middle;\n",
       "    }\n",
       "\n",
       "    .dataframe tbody tr th {\n",
       "        vertical-align: top;\n",
       "    }\n",
       "\n",
       "    .dataframe thead th {\n",
       "        text-align: right;\n",
       "    }\n",
       "</style>\n",
       "<table border=\"1\" class=\"dataframe\">\n",
       "  <thead>\n",
       "    <tr style=\"text-align: right;\">\n",
       "      <th></th>\n",
       "      <th>RowNumber</th>\n",
       "      <th>CustomerId</th>\n",
       "      <th>Surname</th>\n",
       "      <th>CreditScore</th>\n",
       "      <th>Geography</th>\n",
       "      <th>Gender</th>\n",
       "      <th>Age</th>\n",
       "      <th>Tenure</th>\n",
       "      <th>Balance</th>\n",
       "      <th>NumOfProducts</th>\n",
       "      <th>HasCrCard</th>\n",
       "      <th>IsActiveMember</th>\n",
       "      <th>EstimatedSalary</th>\n",
       "      <th>Exited</th>\n",
       "    </tr>\n",
       "  </thead>\n",
       "  <tbody>\n",
       "  </tbody>\n",
       "</table>\n",
       "</div>"
      ],
      "text/plain": [
       "Empty DataFrame\n",
       "Columns: [RowNumber, CustomerId, Surname, CreditScore, Geography, Gender, Age, Tenure, Balance, NumOfProducts, HasCrCard, IsActiveMember, EstimatedSalary, Exited]\n",
       "Index: []"
      ]
     },
     "execution_count": 204,
     "metadata": {},
     "output_type": "execute_result"
    }
   ],
   "source": [
    "df[df.duplicated()]"
   ]
  },
  {
   "cell_type": "markdown",
   "id": "1jljYOj8JAzj",
   "metadata": {
    "id": "1jljYOj8JAzj"
   },
   "source": [
    "# Feature Engineering\n"
   ]
  },
  {
   "cell_type": "code",
   "execution_count": 207,
   "id": "2WuVRD1zGh-U",
   "metadata": {
    "executionInfo": {
     "elapsed": 4,
     "status": "ok",
     "timestamp": 1761061720632,
     "user": {
      "displayName": "Mohammed Afreed Pasha",
      "userId": "17679094173617410010"
     },
     "user_tz": -330
    },
    "id": "2WuVRD1zGh-U"
   },
   "outputs": [],
   "source": [
    "#binary feature for balance\n",
    "df['BalanceZero']=(df['Balance']==0).astype(int)\n",
    "\n",
    "#Age groups\n",
    "df['AgeGroup'] = pd.cut(df['Age'], bins=[18,25,35,45,55,65,75,85,95],labels = ['18-25','25-35','35-45','45-55','55-65','65-75','75-85','85-95'])\n",
    "\n",
    "#Balance to salary ratio\n",
    "df['BalanceToSalaryRatio'] = df['Balance']/df['EstimatedSalary']\n",
    "\n",
    "#Interaction feature between NumOfProducts and IsActiveMember\n",
    "df['ProductUsage'] = df['NumOfProducts'] * df['IsActiveMember']\n",
    "\n",
    "#Tenure grouping\n",
    "df['TenureGroup'] = pd.cut(df['Tenure'] , bins=[0,2,4,6,8,10], labels=['0-2','3-4','5-6','7-8','9-10'])"
   ]
  },
  {
   "cell_type": "markdown",
   "id": "zkz-MDnaJfu9",
   "metadata": {
    "id": "zkz-MDnaJfu9"
   },
   "source": [
    "# Encoding data"
   ]
  },
  {
   "cell_type": "code",
   "execution_count": 210,
   "id": "33359135-3cd6-4775-a97d-8d7c2ad400a2",
   "metadata": {
    "executionInfo": {
     "elapsed": 53,
     "status": "ok",
     "timestamp": 1761061722624,
     "user": {
      "displayName": "Mohammed Afreed Pasha",
      "userId": "17679094173617410010"
     },
     "user_tz": -330
    },
    "id": "33359135-3cd6-4775-a97d-8d7c2ad400a2"
   },
   "outputs": [
    {
     "data": {
      "text/plain": [
       "['fitted_label_encoder.pkl']"
      ]
     },
     "execution_count": 210,
     "metadata": {},
     "output_type": "execute_result"
    }
   ],
   "source": [
    "df= pd.get_dummies(df , columns=[\"Geography\",'AgeGroup','TenureGroup'],drop_first = True) #one hot encoding\n",
    "label_encoder = LabelEncoder()\n",
    "label_encoder.fit(['Female', 'Male'])\n",
    "df['Gender'] = label_encoder.transform(df['Gender']) #lable encoding\n",
    "joblib.dump(label_encoder, 'fitted_label_encoder.pkl')"
   ]
  },
  {
   "cell_type": "code",
   "execution_count": 212,
   "id": "90186b61-476e-4d29-9e5a-797920f8ca4c",
   "metadata": {
    "colab": {
     "base_uri": "https://localhost:8080/",
     "height": 179
    },
    "executionInfo": {
     "elapsed": 98,
     "status": "ok",
     "timestamp": 1761061724240,
     "user": {
      "displayName": "Mohammed Afreed Pasha",
      "userId": "17679094173617410010"
     },
     "user_tz": -330
    },
    "id": "90186b61-476e-4d29-9e5a-797920f8ca4c",
    "outputId": "ff4c5b19-8086-4634-d045-89a72e2f5efd"
   },
   "outputs": [
    {
     "data": {
      "text/html": [
       "<div>\n",
       "<style scoped>\n",
       "    .dataframe tbody tr th:only-of-type {\n",
       "        vertical-align: middle;\n",
       "    }\n",
       "\n",
       "    .dataframe tbody tr th {\n",
       "        vertical-align: top;\n",
       "    }\n",
       "\n",
       "    .dataframe thead th {\n",
       "        text-align: right;\n",
       "    }\n",
       "</style>\n",
       "<table border=\"1\" class=\"dataframe\">\n",
       "  <thead>\n",
       "    <tr style=\"text-align: right;\">\n",
       "      <th></th>\n",
       "      <th>RowNumber</th>\n",
       "      <th>CustomerId</th>\n",
       "      <th>Surname</th>\n",
       "      <th>CreditScore</th>\n",
       "      <th>Gender</th>\n",
       "      <th>Age</th>\n",
       "      <th>Tenure</th>\n",
       "      <th>Balance</th>\n",
       "      <th>NumOfProducts</th>\n",
       "      <th>HasCrCard</th>\n",
       "      <th>...</th>\n",
       "      <th>AgeGroup_35-45</th>\n",
       "      <th>AgeGroup_45-55</th>\n",
       "      <th>AgeGroup_55-65</th>\n",
       "      <th>AgeGroup_65-75</th>\n",
       "      <th>AgeGroup_75-85</th>\n",
       "      <th>AgeGroup_85-95</th>\n",
       "      <th>TenureGroup_3-4</th>\n",
       "      <th>TenureGroup_5-6</th>\n",
       "      <th>TenureGroup_7-8</th>\n",
       "      <th>TenureGroup_9-10</th>\n",
       "    </tr>\n",
       "  </thead>\n",
       "  <tbody>\n",
       "    <tr>\n",
       "      <th>0</th>\n",
       "      <td>1</td>\n",
       "      <td>15634602</td>\n",
       "      <td>Hargrave</td>\n",
       "      <td>619</td>\n",
       "      <td>0</td>\n",
       "      <td>42</td>\n",
       "      <td>2</td>\n",
       "      <td>0.00</td>\n",
       "      <td>1</td>\n",
       "      <td>1</td>\n",
       "      <td>...</td>\n",
       "      <td>True</td>\n",
       "      <td>False</td>\n",
       "      <td>False</td>\n",
       "      <td>False</td>\n",
       "      <td>False</td>\n",
       "      <td>False</td>\n",
       "      <td>False</td>\n",
       "      <td>False</td>\n",
       "      <td>False</td>\n",
       "      <td>False</td>\n",
       "    </tr>\n",
       "    <tr>\n",
       "      <th>1</th>\n",
       "      <td>2</td>\n",
       "      <td>15647311</td>\n",
       "      <td>Hill</td>\n",
       "      <td>608</td>\n",
       "      <td>0</td>\n",
       "      <td>41</td>\n",
       "      <td>1</td>\n",
       "      <td>83807.86</td>\n",
       "      <td>1</td>\n",
       "      <td>0</td>\n",
       "      <td>...</td>\n",
       "      <td>True</td>\n",
       "      <td>False</td>\n",
       "      <td>False</td>\n",
       "      <td>False</td>\n",
       "      <td>False</td>\n",
       "      <td>False</td>\n",
       "      <td>False</td>\n",
       "      <td>False</td>\n",
       "      <td>False</td>\n",
       "      <td>False</td>\n",
       "    </tr>\n",
       "  </tbody>\n",
       "</table>\n",
       "<p>2 rows × 29 columns</p>\n",
       "</div>"
      ],
      "text/plain": [
       "   RowNumber  CustomerId   Surname  CreditScore  Gender  Age  Tenure  \\\n",
       "0          1    15634602  Hargrave          619       0   42       2   \n",
       "1          2    15647311      Hill          608       0   41       1   \n",
       "\n",
       "    Balance  NumOfProducts  HasCrCard  ...  AgeGroup_35-45  AgeGroup_45-55  \\\n",
       "0      0.00              1          1  ...            True           False   \n",
       "1  83807.86              1          0  ...            True           False   \n",
       "\n",
       "   AgeGroup_55-65  AgeGroup_65-75  AgeGroup_75-85  AgeGroup_85-95  \\\n",
       "0           False           False           False           False   \n",
       "1           False           False           False           False   \n",
       "\n",
       "   TenureGroup_3-4  TenureGroup_5-6  TenureGroup_7-8  TenureGroup_9-10  \n",
       "0            False            False            False             False  \n",
       "1            False            False            False             False  \n",
       "\n",
       "[2 rows x 29 columns]"
      ]
     },
     "execution_count": 212,
     "metadata": {},
     "output_type": "execute_result"
    }
   ],
   "source": [
    "df.head(2)"
   ]
  },
  {
   "cell_type": "code",
   "execution_count": 214,
   "id": "zss6SFwHHKQu",
   "metadata": {
    "colab": {
     "base_uri": "https://localhost:8080/"
    },
    "executionInfo": {
     "elapsed": 58,
     "status": "ok",
     "timestamp": 1761061725729,
     "user": {
      "displayName": "Mohammed Afreed Pasha",
      "userId": "17679094173617410010"
     },
     "user_tz": -330
    },
    "id": "zss6SFwHHKQu",
    "outputId": "ba956a5f-0404-481e-d5cb-64deb43e0923"
   },
   "outputs": [
    {
     "data": {
      "text/plain": [
       "Index(['RowNumber', 'CustomerId', 'Surname', 'CreditScore', 'Gender', 'Age',\n",
       "       'Tenure', 'Balance', 'NumOfProducts', 'HasCrCard', 'IsActiveMember',\n",
       "       'EstimatedSalary', 'Exited', 'BalanceZero', 'BalanceToSalaryRatio',\n",
       "       'ProductUsage', 'Geography_Germany', 'Geography_Spain',\n",
       "       'AgeGroup_25-35', 'AgeGroup_35-45', 'AgeGroup_45-55', 'AgeGroup_55-65',\n",
       "       'AgeGroup_65-75', 'AgeGroup_75-85', 'AgeGroup_85-95', 'TenureGroup_3-4',\n",
       "       'TenureGroup_5-6', 'TenureGroup_7-8', 'TenureGroup_9-10'],\n",
       "      dtype='object')"
      ]
     },
     "execution_count": 214,
     "metadata": {},
     "output_type": "execute_result"
    }
   ],
   "source": [
    "df.columns"
   ]
  },
  {
   "cell_type": "code",
   "execution_count": 216,
   "id": "3fcae36c-aeba-4456-abfc-d9fdd6bb4eb4",
   "metadata": {
    "executionInfo": {
     "elapsed": 45,
     "status": "ok",
     "timestamp": 1761061730276,
     "user": {
      "displayName": "Mohammed Afreed Pasha",
      "userId": "17679094173617410010"
     },
     "user_tz": -330
    },
    "id": "3fcae36c-aeba-4456-abfc-d9fdd6bb4eb4"
   },
   "outputs": [],
   "source": [
    "features = ['CreditScore', 'Gender', 'Age','Tenure', 'Balance', 'NumOfProducts',\n",
    "              'HasCrCard', 'IsActiveMember','EstimatedSalary','BalanceZero','BalanceToSalaryRatio',\n",
    "       'ProductUsage', 'Geography_Germany', 'Geography_Spain',\n",
    "       'AgeGroup_25-35', 'AgeGroup_35-45', 'AgeGroup_45-55', 'AgeGroup_55-65',\n",
    "       'AgeGroup_65-75', 'AgeGroup_75-85', 'AgeGroup_85-95', 'TenureGroup_3-4',\n",
    "       'TenureGroup_5-6', 'TenureGroup_7-8', 'TenureGroup_9-10']\n",
    "x = df[features]\n",
    "y = df['Exited']"
   ]
  },
  {
   "cell_type": "markdown",
   "id": "90073fa2-31c4-461d-a744-b26c5c9a165d",
   "metadata": {},
   "source": [
    "# train test spliting"
   ]
  },
  {
   "cell_type": "code",
   "execution_count": 219,
   "id": "wLjfpVFcVqYi",
   "metadata": {
    "executionInfo": {
     "elapsed": 10,
     "status": "ok",
     "timestamp": 1761061736483,
     "user": {
      "displayName": "Mohammed Afreed Pasha",
      "userId": "17679094173617410010"
     },
     "user_tz": -330
    },
    "id": "wLjfpVFcVqYi"
   },
   "outputs": [],
   "source": [
    "x_train ,x_test , y_train ,y_test = train_test_split(x,y, test_size=0.2 ,random_state=42)"
   ]
  },
  {
   "cell_type": "markdown",
   "id": "bJhx00HtJP4n",
   "metadata": {
    "id": "bJhx00HtJP4n"
   },
   "source": [
    "# feature scalling"
   ]
  },
  {
   "cell_type": "code",
   "execution_count": 222,
   "id": "53ba404b-882a-46dd-a171-0cb75f87c909",
   "metadata": {
    "colab": {
     "base_uri": "https://localhost:8080/"
    },
    "executionInfo": {
     "elapsed": 102,
     "status": "ok",
     "timestamp": 1761061748953,
     "user": {
      "displayName": "Mohammed Afreed Pasha",
      "userId": "17679094173617410010"
     },
     "user_tz": -330
    },
    "id": "53ba404b-882a-46dd-a171-0cb75f87c909",
    "outputId": "dc84e4df-71b5-4310-b737-e238b287ce8a"
   },
   "outputs": [
    {
     "data": {
      "text/plain": [
       "['fitted_standard_scaler.pkl']"
      ]
     },
     "execution_count": 222,
     "metadata": {},
     "output_type": "execute_result"
    }
   ],
   "source": [
    "cols_to_scale = ['CreditScore','Age','Tenure','Balance','EstimatedSalary','BalanceToSalaryRatio']\n",
    "scaler = StandardScaler()\n",
    "x_train[cols_to_scale] = scaler.fit_transform(x_train[cols_to_scale])\n",
    "x_test[cols_to_scale] = scaler.transform(x_test[cols_to_scale])\n",
    "joblib.dump(scaler, 'fitted_standard_scaler.pkl')"
   ]
  },
  {
   "cell_type": "code",
   "execution_count": 224,
   "id": "422bee38-da2c-4324-a500-f00bae39d305",
   "metadata": {
    "colab": {
     "base_uri": "https://localhost:8080/",
     "height": 210
    },
    "executionInfo": {
     "elapsed": 82,
     "status": "ok",
     "timestamp": 1761061750948,
     "user": {
      "displayName": "Mohammed Afreed Pasha",
      "userId": "17679094173617410010"
     },
     "user_tz": -330
    },
    "id": "422bee38-da2c-4324-a500-f00bae39d305",
    "outputId": "14291d54-08bc-4609-f500-4b57262b5def"
   },
   "outputs": [
    {
     "data": {
      "text/html": [
       "<div>\n",
       "<style scoped>\n",
       "    .dataframe tbody tr th:only-of-type {\n",
       "        vertical-align: middle;\n",
       "    }\n",
       "\n",
       "    .dataframe tbody tr th {\n",
       "        vertical-align: top;\n",
       "    }\n",
       "\n",
       "    .dataframe thead th {\n",
       "        text-align: right;\n",
       "    }\n",
       "</style>\n",
       "<table border=\"1\" class=\"dataframe\">\n",
       "  <thead>\n",
       "    <tr style=\"text-align: right;\">\n",
       "      <th></th>\n",
       "      <th>CreditScore</th>\n",
       "      <th>Gender</th>\n",
       "      <th>Age</th>\n",
       "      <th>Tenure</th>\n",
       "      <th>Balance</th>\n",
       "      <th>NumOfProducts</th>\n",
       "      <th>HasCrCard</th>\n",
       "      <th>IsActiveMember</th>\n",
       "      <th>EstimatedSalary</th>\n",
       "      <th>BalanceZero</th>\n",
       "      <th>...</th>\n",
       "      <th>AgeGroup_35-45</th>\n",
       "      <th>AgeGroup_45-55</th>\n",
       "      <th>AgeGroup_55-65</th>\n",
       "      <th>AgeGroup_65-75</th>\n",
       "      <th>AgeGroup_75-85</th>\n",
       "      <th>AgeGroup_85-95</th>\n",
       "      <th>TenureGroup_3-4</th>\n",
       "      <th>TenureGroup_5-6</th>\n",
       "      <th>TenureGroup_7-8</th>\n",
       "      <th>TenureGroup_9-10</th>\n",
       "    </tr>\n",
       "  </thead>\n",
       "  <tbody>\n",
       "    <tr>\n",
       "      <th>9254</th>\n",
       "      <td>0.356500</td>\n",
       "      <td>1</td>\n",
       "      <td>-0.655786</td>\n",
       "      <td>0.345680</td>\n",
       "      <td>-1.218471</td>\n",
       "      <td>2</td>\n",
       "      <td>1</td>\n",
       "      <td>1</td>\n",
       "      <td>1.367670</td>\n",
       "      <td>1</td>\n",
       "      <td>...</td>\n",
       "      <td>False</td>\n",
       "      <td>False</td>\n",
       "      <td>False</td>\n",
       "      <td>False</td>\n",
       "      <td>False</td>\n",
       "      <td>False</td>\n",
       "      <td>False</td>\n",
       "      <td>True</td>\n",
       "      <td>False</td>\n",
       "      <td>False</td>\n",
       "    </tr>\n",
       "    <tr>\n",
       "      <th>1561</th>\n",
       "      <td>-0.203898</td>\n",
       "      <td>1</td>\n",
       "      <td>0.294938</td>\n",
       "      <td>-0.348369</td>\n",
       "      <td>0.696838</td>\n",
       "      <td>2</td>\n",
       "      <td>1</td>\n",
       "      <td>1</td>\n",
       "      <td>1.661254</td>\n",
       "      <td>0</td>\n",
       "      <td>...</td>\n",
       "      <td>True</td>\n",
       "      <td>False</td>\n",
       "      <td>False</td>\n",
       "      <td>False</td>\n",
       "      <td>False</td>\n",
       "      <td>False</td>\n",
       "      <td>True</td>\n",
       "      <td>False</td>\n",
       "      <td>False</td>\n",
       "      <td>False</td>\n",
       "    </tr>\n",
       "    <tr>\n",
       "      <th>1670</th>\n",
       "      <td>-0.961472</td>\n",
       "      <td>1</td>\n",
       "      <td>-1.416365</td>\n",
       "      <td>-0.695393</td>\n",
       "      <td>0.618629</td>\n",
       "      <td>1</td>\n",
       "      <td>1</td>\n",
       "      <td>0</td>\n",
       "      <td>-0.252807</td>\n",
       "      <td>0</td>\n",
       "      <td>...</td>\n",
       "      <td>False</td>\n",
       "      <td>False</td>\n",
       "      <td>False</td>\n",
       "      <td>False</td>\n",
       "      <td>False</td>\n",
       "      <td>False</td>\n",
       "      <td>True</td>\n",
       "      <td>False</td>\n",
       "      <td>False</td>\n",
       "      <td>False</td>\n",
       "    </tr>\n",
       "  </tbody>\n",
       "</table>\n",
       "<p>3 rows × 25 columns</p>\n",
       "</div>"
      ],
      "text/plain": [
       "      CreditScore  Gender       Age    Tenure   Balance  NumOfProducts  \\\n",
       "9254     0.356500       1 -0.655786  0.345680 -1.218471              2   \n",
       "1561    -0.203898       1  0.294938 -0.348369  0.696838              2   \n",
       "1670    -0.961472       1 -1.416365 -0.695393  0.618629              1   \n",
       "\n",
       "      HasCrCard  IsActiveMember  EstimatedSalary  BalanceZero  ...  \\\n",
       "9254          1               1         1.367670            1  ...   \n",
       "1561          1               1         1.661254            0  ...   \n",
       "1670          1               0        -0.252807            0  ...   \n",
       "\n",
       "      AgeGroup_35-45  AgeGroup_45-55  AgeGroup_55-65  AgeGroup_65-75  \\\n",
       "9254           False           False           False           False   \n",
       "1561            True           False           False           False   \n",
       "1670           False           False           False           False   \n",
       "\n",
       "      AgeGroup_75-85  AgeGroup_85-95  TenureGroup_3-4  TenureGroup_5-6  \\\n",
       "9254           False           False            False             True   \n",
       "1561           False           False             True            False   \n",
       "1670           False           False             True            False   \n",
       "\n",
       "      TenureGroup_7-8  TenureGroup_9-10  \n",
       "9254            False             False  \n",
       "1561            False             False  \n",
       "1670            False             False  \n",
       "\n",
       "[3 rows x 25 columns]"
      ]
     },
     "execution_count": 224,
     "metadata": {},
     "output_type": "execute_result"
    }
   ],
   "source": [
    "x_train.head(3)"
   ]
  },
  {
   "cell_type": "code",
   "execution_count": null,
   "id": "IN4O7hjFczL8",
   "metadata": {
    "colab": {
     "base_uri": "https://localhost:8080/",
     "height": 391
    },
    "executionInfo": {
     "elapsed": 297694,
     "status": "error",
     "timestamp": 1761063515904,
     "user": {
      "displayName": "Mohammed Afreed Pasha",
      "userId": "17679094173617410010"
     },
     "user_tz": -330
    },
    "id": "IN4O7hjFczL8",
    "outputId": "12542453-eafb-4bfa-e3bc-8ecf5fe455c5"
   },
   "outputs": [],
   "source": []
  },
  {
   "cell_type": "markdown",
   "id": "839e2802-b3da-4400-ad65-ad1e880d64b5",
   "metadata": {
    "id": "839e2802-b3da-4400-ad65-ad1e880d64b5"
   },
   "source": [
    "# Random Forest Model"
   ]
  },
  {
   "cell_type": "code",
   "execution_count": 228,
   "id": "af3286cb-89c6-4fe2-ad84-84b3fbdcf546",
   "metadata": {
    "executionInfo": {
     "elapsed": 610,
     "status": "ok",
     "timestamp": 1761061596859,
     "user": {
      "displayName": "Mohammed Afreed Pasha",
      "userId": "17679094173617410010"
     },
     "user_tz": -330
    },
    "id": "af3286cb-89c6-4fe2-ad84-84b3fbdcf546"
   },
   "outputs": [
    {
     "data": {
      "text/html": [
       "<style>#sk-container-id-4 {\n",
       "  /* Definition of color scheme common for light and dark mode */\n",
       "  --sklearn-color-text: black;\n",
       "  --sklearn-color-line: gray;\n",
       "  /* Definition of color scheme for unfitted estimators */\n",
       "  --sklearn-color-unfitted-level-0: #fff5e6;\n",
       "  --sklearn-color-unfitted-level-1: #f6e4d2;\n",
       "  --sklearn-color-unfitted-level-2: #ffe0b3;\n",
       "  --sklearn-color-unfitted-level-3: chocolate;\n",
       "  /* Definition of color scheme for fitted estimators */\n",
       "  --sklearn-color-fitted-level-0: #f0f8ff;\n",
       "  --sklearn-color-fitted-level-1: #d4ebff;\n",
       "  --sklearn-color-fitted-level-2: #b3dbfd;\n",
       "  --sklearn-color-fitted-level-3: cornflowerblue;\n",
       "\n",
       "  /* Specific color for light theme */\n",
       "  --sklearn-color-text-on-default-background: var(--sg-text-color, var(--theme-code-foreground, var(--jp-content-font-color1, black)));\n",
       "  --sklearn-color-background: var(--sg-background-color, var(--theme-background, var(--jp-layout-color0, white)));\n",
       "  --sklearn-color-border-box: var(--sg-text-color, var(--theme-code-foreground, var(--jp-content-font-color1, black)));\n",
       "  --sklearn-color-icon: #696969;\n",
       "\n",
       "  @media (prefers-color-scheme: dark) {\n",
       "    /* Redefinition of color scheme for dark theme */\n",
       "    --sklearn-color-text-on-default-background: var(--sg-text-color, var(--theme-code-foreground, var(--jp-content-font-color1, white)));\n",
       "    --sklearn-color-background: var(--sg-background-color, var(--theme-background, var(--jp-layout-color0, #111)));\n",
       "    --sklearn-color-border-box: var(--sg-text-color, var(--theme-code-foreground, var(--jp-content-font-color1, white)));\n",
       "    --sklearn-color-icon: #878787;\n",
       "  }\n",
       "}\n",
       "\n",
       "#sk-container-id-4 {\n",
       "  color: var(--sklearn-color-text);\n",
       "}\n",
       "\n",
       "#sk-container-id-4 pre {\n",
       "  padding: 0;\n",
       "}\n",
       "\n",
       "#sk-container-id-4 input.sk-hidden--visually {\n",
       "  border: 0;\n",
       "  clip: rect(1px 1px 1px 1px);\n",
       "  clip: rect(1px, 1px, 1px, 1px);\n",
       "  height: 1px;\n",
       "  margin: -1px;\n",
       "  overflow: hidden;\n",
       "  padding: 0;\n",
       "  position: absolute;\n",
       "  width: 1px;\n",
       "}\n",
       "\n",
       "#sk-container-id-4 div.sk-dashed-wrapped {\n",
       "  border: 1px dashed var(--sklearn-color-line);\n",
       "  margin: 0 0.4em 0.5em 0.4em;\n",
       "  box-sizing: border-box;\n",
       "  padding-bottom: 0.4em;\n",
       "  background-color: var(--sklearn-color-background);\n",
       "}\n",
       "\n",
       "#sk-container-id-4 div.sk-container {\n",
       "  /* jupyter's `normalize.less` sets `[hidden] { display: none; }`\n",
       "     but bootstrap.min.css set `[hidden] { display: none !important; }`\n",
       "     so we also need the `!important` here to be able to override the\n",
       "     default hidden behavior on the sphinx rendered scikit-learn.org.\n",
       "     See: https://github.com/scikit-learn/scikit-learn/issues/21755 */\n",
       "  display: inline-block !important;\n",
       "  position: relative;\n",
       "}\n",
       "\n",
       "#sk-container-id-4 div.sk-text-repr-fallback {\n",
       "  display: none;\n",
       "}\n",
       "\n",
       "div.sk-parallel-item,\n",
       "div.sk-serial,\n",
       "div.sk-item {\n",
       "  /* draw centered vertical line to link estimators */\n",
       "  background-image: linear-gradient(var(--sklearn-color-text-on-default-background), var(--sklearn-color-text-on-default-background));\n",
       "  background-size: 2px 100%;\n",
       "  background-repeat: no-repeat;\n",
       "  background-position: center center;\n",
       "}\n",
       "\n",
       "/* Parallel-specific style estimator block */\n",
       "\n",
       "#sk-container-id-4 div.sk-parallel-item::after {\n",
       "  content: \"\";\n",
       "  width: 100%;\n",
       "  border-bottom: 2px solid var(--sklearn-color-text-on-default-background);\n",
       "  flex-grow: 1;\n",
       "}\n",
       "\n",
       "#sk-container-id-4 div.sk-parallel {\n",
       "  display: flex;\n",
       "  align-items: stretch;\n",
       "  justify-content: center;\n",
       "  background-color: var(--sklearn-color-background);\n",
       "  position: relative;\n",
       "}\n",
       "\n",
       "#sk-container-id-4 div.sk-parallel-item {\n",
       "  display: flex;\n",
       "  flex-direction: column;\n",
       "}\n",
       "\n",
       "#sk-container-id-4 div.sk-parallel-item:first-child::after {\n",
       "  align-self: flex-end;\n",
       "  width: 50%;\n",
       "}\n",
       "\n",
       "#sk-container-id-4 div.sk-parallel-item:last-child::after {\n",
       "  align-self: flex-start;\n",
       "  width: 50%;\n",
       "}\n",
       "\n",
       "#sk-container-id-4 div.sk-parallel-item:only-child::after {\n",
       "  width: 0;\n",
       "}\n",
       "\n",
       "/* Serial-specific style estimator block */\n",
       "\n",
       "#sk-container-id-4 div.sk-serial {\n",
       "  display: flex;\n",
       "  flex-direction: column;\n",
       "  align-items: center;\n",
       "  background-color: var(--sklearn-color-background);\n",
       "  padding-right: 1em;\n",
       "  padding-left: 1em;\n",
       "}\n",
       "\n",
       "\n",
       "/* Toggleable style: style used for estimator/Pipeline/ColumnTransformer box that is\n",
       "clickable and can be expanded/collapsed.\n",
       "- Pipeline and ColumnTransformer use this feature and define the default style\n",
       "- Estimators will overwrite some part of the style using the `sk-estimator` class\n",
       "*/\n",
       "\n",
       "/* Pipeline and ColumnTransformer style (default) */\n",
       "\n",
       "#sk-container-id-4 div.sk-toggleable {\n",
       "  /* Default theme specific background. It is overwritten whether we have a\n",
       "  specific estimator or a Pipeline/ColumnTransformer */\n",
       "  background-color: var(--sklearn-color-background);\n",
       "}\n",
       "\n",
       "/* Toggleable label */\n",
       "#sk-container-id-4 label.sk-toggleable__label {\n",
       "  cursor: pointer;\n",
       "  display: block;\n",
       "  width: 100%;\n",
       "  margin-bottom: 0;\n",
       "  padding: 0.5em;\n",
       "  box-sizing: border-box;\n",
       "  text-align: center;\n",
       "}\n",
       "\n",
       "#sk-container-id-4 label.sk-toggleable__label-arrow:before {\n",
       "  /* Arrow on the left of the label */\n",
       "  content: \"▸\";\n",
       "  float: left;\n",
       "  margin-right: 0.25em;\n",
       "  color: var(--sklearn-color-icon);\n",
       "}\n",
       "\n",
       "#sk-container-id-4 label.sk-toggleable__label-arrow:hover:before {\n",
       "  color: var(--sklearn-color-text);\n",
       "}\n",
       "\n",
       "/* Toggleable content - dropdown */\n",
       "\n",
       "#sk-container-id-4 div.sk-toggleable__content {\n",
       "  max-height: 0;\n",
       "  max-width: 0;\n",
       "  overflow: hidden;\n",
       "  text-align: left;\n",
       "  /* unfitted */\n",
       "  background-color: var(--sklearn-color-unfitted-level-0);\n",
       "}\n",
       "\n",
       "#sk-container-id-4 div.sk-toggleable__content.fitted {\n",
       "  /* fitted */\n",
       "  background-color: var(--sklearn-color-fitted-level-0);\n",
       "}\n",
       "\n",
       "#sk-container-id-4 div.sk-toggleable__content pre {\n",
       "  margin: 0.2em;\n",
       "  border-radius: 0.25em;\n",
       "  color: var(--sklearn-color-text);\n",
       "  /* unfitted */\n",
       "  background-color: var(--sklearn-color-unfitted-level-0);\n",
       "}\n",
       "\n",
       "#sk-container-id-4 div.sk-toggleable__content.fitted pre {\n",
       "  /* unfitted */\n",
       "  background-color: var(--sklearn-color-fitted-level-0);\n",
       "}\n",
       "\n",
       "#sk-container-id-4 input.sk-toggleable__control:checked~div.sk-toggleable__content {\n",
       "  /* Expand drop-down */\n",
       "  max-height: 200px;\n",
       "  max-width: 100%;\n",
       "  overflow: auto;\n",
       "}\n",
       "\n",
       "#sk-container-id-4 input.sk-toggleable__control:checked~label.sk-toggleable__label-arrow:before {\n",
       "  content: \"▾\";\n",
       "}\n",
       "\n",
       "/* Pipeline/ColumnTransformer-specific style */\n",
       "\n",
       "#sk-container-id-4 div.sk-label input.sk-toggleable__control:checked~label.sk-toggleable__label {\n",
       "  color: var(--sklearn-color-text);\n",
       "  background-color: var(--sklearn-color-unfitted-level-2);\n",
       "}\n",
       "\n",
       "#sk-container-id-4 div.sk-label.fitted input.sk-toggleable__control:checked~label.sk-toggleable__label {\n",
       "  background-color: var(--sklearn-color-fitted-level-2);\n",
       "}\n",
       "\n",
       "/* Estimator-specific style */\n",
       "\n",
       "/* Colorize estimator box */\n",
       "#sk-container-id-4 div.sk-estimator input.sk-toggleable__control:checked~label.sk-toggleable__label {\n",
       "  /* unfitted */\n",
       "  background-color: var(--sklearn-color-unfitted-level-2);\n",
       "}\n",
       "\n",
       "#sk-container-id-4 div.sk-estimator.fitted input.sk-toggleable__control:checked~label.sk-toggleable__label {\n",
       "  /* fitted */\n",
       "  background-color: var(--sklearn-color-fitted-level-2);\n",
       "}\n",
       "\n",
       "#sk-container-id-4 div.sk-label label.sk-toggleable__label,\n",
       "#sk-container-id-4 div.sk-label label {\n",
       "  /* The background is the default theme color */\n",
       "  color: var(--sklearn-color-text-on-default-background);\n",
       "}\n",
       "\n",
       "/* On hover, darken the color of the background */\n",
       "#sk-container-id-4 div.sk-label:hover label.sk-toggleable__label {\n",
       "  color: var(--sklearn-color-text);\n",
       "  background-color: var(--sklearn-color-unfitted-level-2);\n",
       "}\n",
       "\n",
       "/* Label box, darken color on hover, fitted */\n",
       "#sk-container-id-4 div.sk-label.fitted:hover label.sk-toggleable__label.fitted {\n",
       "  color: var(--sklearn-color-text);\n",
       "  background-color: var(--sklearn-color-fitted-level-2);\n",
       "}\n",
       "\n",
       "/* Estimator label */\n",
       "\n",
       "#sk-container-id-4 div.sk-label label {\n",
       "  font-family: monospace;\n",
       "  font-weight: bold;\n",
       "  display: inline-block;\n",
       "  line-height: 1.2em;\n",
       "}\n",
       "\n",
       "#sk-container-id-4 div.sk-label-container {\n",
       "  text-align: center;\n",
       "}\n",
       "\n",
       "/* Estimator-specific */\n",
       "#sk-container-id-4 div.sk-estimator {\n",
       "  font-family: monospace;\n",
       "  border: 1px dotted var(--sklearn-color-border-box);\n",
       "  border-radius: 0.25em;\n",
       "  box-sizing: border-box;\n",
       "  margin-bottom: 0.5em;\n",
       "  /* unfitted */\n",
       "  background-color: var(--sklearn-color-unfitted-level-0);\n",
       "}\n",
       "\n",
       "#sk-container-id-4 div.sk-estimator.fitted {\n",
       "  /* fitted */\n",
       "  background-color: var(--sklearn-color-fitted-level-0);\n",
       "}\n",
       "\n",
       "/* on hover */\n",
       "#sk-container-id-4 div.sk-estimator:hover {\n",
       "  /* unfitted */\n",
       "  background-color: var(--sklearn-color-unfitted-level-2);\n",
       "}\n",
       "\n",
       "#sk-container-id-4 div.sk-estimator.fitted:hover {\n",
       "  /* fitted */\n",
       "  background-color: var(--sklearn-color-fitted-level-2);\n",
       "}\n",
       "\n",
       "/* Specification for estimator info (e.g. \"i\" and \"?\") */\n",
       "\n",
       "/* Common style for \"i\" and \"?\" */\n",
       "\n",
       ".sk-estimator-doc-link,\n",
       "a:link.sk-estimator-doc-link,\n",
       "a:visited.sk-estimator-doc-link {\n",
       "  float: right;\n",
       "  font-size: smaller;\n",
       "  line-height: 1em;\n",
       "  font-family: monospace;\n",
       "  background-color: var(--sklearn-color-background);\n",
       "  border-radius: 1em;\n",
       "  height: 1em;\n",
       "  width: 1em;\n",
       "  text-decoration: none !important;\n",
       "  margin-left: 1ex;\n",
       "  /* unfitted */\n",
       "  border: var(--sklearn-color-unfitted-level-1) 1pt solid;\n",
       "  color: var(--sklearn-color-unfitted-level-1);\n",
       "}\n",
       "\n",
       ".sk-estimator-doc-link.fitted,\n",
       "a:link.sk-estimator-doc-link.fitted,\n",
       "a:visited.sk-estimator-doc-link.fitted {\n",
       "  /* fitted */\n",
       "  border: var(--sklearn-color-fitted-level-1) 1pt solid;\n",
       "  color: var(--sklearn-color-fitted-level-1);\n",
       "}\n",
       "\n",
       "/* On hover */\n",
       "div.sk-estimator:hover .sk-estimator-doc-link:hover,\n",
       ".sk-estimator-doc-link:hover,\n",
       "div.sk-label-container:hover .sk-estimator-doc-link:hover,\n",
       ".sk-estimator-doc-link:hover {\n",
       "  /* unfitted */\n",
       "  background-color: var(--sklearn-color-unfitted-level-3);\n",
       "  color: var(--sklearn-color-background);\n",
       "  text-decoration: none;\n",
       "}\n",
       "\n",
       "div.sk-estimator.fitted:hover .sk-estimator-doc-link.fitted:hover,\n",
       ".sk-estimator-doc-link.fitted:hover,\n",
       "div.sk-label-container:hover .sk-estimator-doc-link.fitted:hover,\n",
       ".sk-estimator-doc-link.fitted:hover {\n",
       "  /* fitted */\n",
       "  background-color: var(--sklearn-color-fitted-level-3);\n",
       "  color: var(--sklearn-color-background);\n",
       "  text-decoration: none;\n",
       "}\n",
       "\n",
       "/* Span, style for the box shown on hovering the info icon */\n",
       ".sk-estimator-doc-link span {\n",
       "  display: none;\n",
       "  z-index: 9999;\n",
       "  position: relative;\n",
       "  font-weight: normal;\n",
       "  right: .2ex;\n",
       "  padding: .5ex;\n",
       "  margin: .5ex;\n",
       "  width: min-content;\n",
       "  min-width: 20ex;\n",
       "  max-width: 50ex;\n",
       "  color: var(--sklearn-color-text);\n",
       "  box-shadow: 2pt 2pt 4pt #999;\n",
       "  /* unfitted */\n",
       "  background: var(--sklearn-color-unfitted-level-0);\n",
       "  border: .5pt solid var(--sklearn-color-unfitted-level-3);\n",
       "}\n",
       "\n",
       ".sk-estimator-doc-link.fitted span {\n",
       "  /* fitted */\n",
       "  background: var(--sklearn-color-fitted-level-0);\n",
       "  border: var(--sklearn-color-fitted-level-3);\n",
       "}\n",
       "\n",
       ".sk-estimator-doc-link:hover span {\n",
       "  display: block;\n",
       "}\n",
       "\n",
       "/* \"?\"-specific style due to the `<a>` HTML tag */\n",
       "\n",
       "#sk-container-id-4 a.estimator_doc_link {\n",
       "  float: right;\n",
       "  font-size: 1rem;\n",
       "  line-height: 1em;\n",
       "  font-family: monospace;\n",
       "  background-color: var(--sklearn-color-background);\n",
       "  border-radius: 1rem;\n",
       "  height: 1rem;\n",
       "  width: 1rem;\n",
       "  text-decoration: none;\n",
       "  /* unfitted */\n",
       "  color: var(--sklearn-color-unfitted-level-1);\n",
       "  border: var(--sklearn-color-unfitted-level-1) 1pt solid;\n",
       "}\n",
       "\n",
       "#sk-container-id-4 a.estimator_doc_link.fitted {\n",
       "  /* fitted */\n",
       "  border: var(--sklearn-color-fitted-level-1) 1pt solid;\n",
       "  color: var(--sklearn-color-fitted-level-1);\n",
       "}\n",
       "\n",
       "/* On hover */\n",
       "#sk-container-id-4 a.estimator_doc_link:hover {\n",
       "  /* unfitted */\n",
       "  background-color: var(--sklearn-color-unfitted-level-3);\n",
       "  color: var(--sklearn-color-background);\n",
       "  text-decoration: none;\n",
       "}\n",
       "\n",
       "#sk-container-id-4 a.estimator_doc_link.fitted:hover {\n",
       "  /* fitted */\n",
       "  background-color: var(--sklearn-color-fitted-level-3);\n",
       "}\n",
       "</style><div id=\"sk-container-id-4\" class=\"sk-top-container\"><div class=\"sk-text-repr-fallback\"><pre>RandomForestClassifier(class_weight=&#x27;balanced&#x27;, random_state=42)</pre><b>In a Jupyter environment, please rerun this cell to show the HTML representation or trust the notebook. <br />On GitHub, the HTML representation is unable to render, please try loading this page with nbviewer.org.</b></div><div class=\"sk-container\" hidden><div class=\"sk-item\"><div class=\"sk-estimator fitted sk-toggleable\"><input class=\"sk-toggleable__control sk-hidden--visually\" id=\"sk-estimator-id-4\" type=\"checkbox\" checked><label for=\"sk-estimator-id-4\" class=\"sk-toggleable__label fitted sk-toggleable__label-arrow fitted\">&nbsp;&nbsp;RandomForestClassifier<a class=\"sk-estimator-doc-link fitted\" rel=\"noreferrer\" target=\"_blank\" href=\"https://scikit-learn.org/1.5/modules/generated/sklearn.ensemble.RandomForestClassifier.html\">?<span>Documentation for RandomForestClassifier</span></a><span class=\"sk-estimator-doc-link fitted\">i<span>Fitted</span></span></label><div class=\"sk-toggleable__content fitted\"><pre>RandomForestClassifier(class_weight=&#x27;balanced&#x27;, random_state=42)</pre></div> </div></div></div></div>"
      ],
      "text/plain": [
       "RandomForestClassifier(class_weight='balanced', random_state=42)"
      ]
     },
     "execution_count": 228,
     "metadata": {},
     "output_type": "execute_result"
    }
   ],
   "source": [
    "#build and train the Random Forest model\n",
    "RandomForest_model = RandomForestClassifier(n_estimators=100 , random_state=42,class_weight='balanced')\n",
    "RandomForest_model.fit(x_train , y_train)"
   ]
  },
  {
   "cell_type": "code",
   "execution_count": 229,
   "id": "e456d07d-0f64-408a-914d-5ff5e586575f",
   "metadata": {
    "executionInfo": {
     "elapsed": 108,
     "status": "ok",
     "timestamp": 1761060265228,
     "user": {
      "displayName": "Mohammed Afreed Pasha",
      "userId": "17679094173617410010"
     },
     "user_tz": -330
    },
    "id": "e456d07d-0f64-408a-914d-5ff5e586575f"
   },
   "outputs": [
    {
     "data": {
      "text/plain": [
       "['simple_rf_model.pkl']"
      ]
     },
     "execution_count": 229,
     "metadata": {},
     "output_type": "execute_result"
    }
   ],
   "source": [
    "#make predictions\n",
    "y_pred = RandomForest_model.predict(x_test)\n",
    "joblib.dump(RandomForest_model, 'simple_rf_model.pkl')"
   ]
  },
  {
   "cell_type": "code",
   "execution_count": 232,
   "id": "a8284b5a-3f5b-4556-8091-a5f642f47450",
   "metadata": {
    "executionInfo": {
     "elapsed": 79,
     "status": "ok",
     "timestamp": 1761060266044,
     "user": {
      "displayName": "Mohammed Afreed Pasha",
      "userId": "17679094173617410010"
     },
     "user_tz": -330
    },
    "id": "a8284b5a-3f5b-4556-8091-a5f642f47450"
   },
   "outputs": [],
   "source": [
    "#evaluate the model\n",
    "conf_matrix = confusion_matrix(y_test , y_pred)\n",
    "class_report = classification_report(y_test , y_pred)\n",
    "accuracy = accuracy_score(y_test , y_pred)"
   ]
  },
  {
   "cell_type": "code",
   "execution_count": 234,
   "id": "85cce2f4-62cd-4724-ade9-dd06d35b38d8",
   "metadata": {
    "colab": {
     "base_uri": "https://localhost:8080/"
    },
    "executionInfo": {
     "elapsed": 62,
     "status": "ok",
     "timestamp": 1761060270938,
     "user": {
      "displayName": "Mohammed Afreed Pasha",
      "userId": "17679094173617410010"
     },
     "user_tz": -330
    },
    "id": "85cce2f4-62cd-4724-ade9-dd06d35b38d8",
    "outputId": "c07a6a08-75a5-4399-bfbe-e176d2a68d0f"
   },
   "outputs": [
    {
     "name": "stdout",
     "output_type": "stream",
     "text": [
      "[[1552   55]\n",
      " [ 218  175]]\n"
     ]
    }
   ],
   "source": [
    "print(conf_matrix)"
   ]
  },
  {
   "cell_type": "code",
   "execution_count": 236,
   "id": "37a89e71-53af-49d3-ab31-d42dc8437074",
   "metadata": {
    "colab": {
     "base_uri": "https://localhost:8080/"
    },
    "executionInfo": {
     "elapsed": 41,
     "status": "ok",
     "timestamp": 1761060274127,
     "user": {
      "displayName": "Mohammed Afreed Pasha",
      "userId": "17679094173617410010"
     },
     "user_tz": -330
    },
    "id": "37a89e71-53af-49d3-ab31-d42dc8437074",
    "outputId": "5f73a20d-7581-49cc-b3c1-a8ca0725ed50"
   },
   "outputs": [
    {
     "name": "stdout",
     "output_type": "stream",
     "text": [
      "              precision    recall  f1-score   support\n",
      "\n",
      "           0       0.88      0.97      0.92      1607\n",
      "           1       0.76      0.45      0.56       393\n",
      "\n",
      "    accuracy                           0.86      2000\n",
      "   macro avg       0.82      0.71      0.74      2000\n",
      "weighted avg       0.85      0.86      0.85      2000\n",
      "\n"
     ]
    }
   ],
   "source": [
    "print(class_report)"
   ]
  },
  {
   "cell_type": "code",
   "execution_count": 238,
   "id": "f158f2dc-7d61-40cd-aa1f-eea888908613",
   "metadata": {
    "colab": {
     "base_uri": "https://localhost:8080/"
    },
    "executionInfo": {
     "elapsed": 88,
     "status": "ok",
     "timestamp": 1761060278577,
     "user": {
      "displayName": "Mohammed Afreed Pasha",
      "userId": "17679094173617410010"
     },
     "user_tz": -330
    },
    "id": "f158f2dc-7d61-40cd-aa1f-eea888908613",
    "outputId": "9ba996ca-00cb-46c6-b724-0e52f188bafa"
   },
   "outputs": [
    {
     "name": "stdout",
     "output_type": "stream",
     "text": [
      "0.8635\n"
     ]
    }
   ],
   "source": [
    "print(accuracy)"
   ]
  },
  {
   "cell_type": "markdown",
   "id": "7290af58-93f2-43d4-8125-b2e868a227ea",
   "metadata": {},
   "source": [
    "# pipline to predict on New Incoming Data"
   ]
  },
  {
   "cell_type": "code",
   "execution_count": 241,
   "id": "020ccc7d-c51f-44bc-8b8e-87faac2f993d",
   "metadata": {},
   "outputs": [],
   "source": [
    "LABEL_ENCODER_PATH = 'fitted_label_encoder.pkl'\n",
    "MODEL_PATH = 'simple_rf_model.pkl'\n",
    "SCALER_PATH = 'fitted_standard_scaler.pkl'\n",
    "PREDICTION_THRESHOLD = 0.5 \n",
    "\n",
    "# Define the columns that were scaled (continuous features)\n",
    "COLS_TO_SCALE = ['CreditScore', 'Age', 'Tenure', 'Balance', 'EstimatedSalary', 'BalanceToSalaryRatio']\n",
    "\n",
    "# Define the final features list the model expects (in the correct order)\n",
    "# This is crucial for matching features after encoding/engineering\n",
    "FINAL_FEATURES = [\n",
    "    'CreditScore', 'Gender', 'Age', 'Tenure', 'Balance', 'NumOfProducts',\n",
    "    'HasCrCard', 'IsActiveMember', 'EstimatedSalary', 'BalanceZero', 'BalanceToSalaryRatio',\n",
    "    'ProductUsage', 'Geography_Germany', 'Geography_Spain',\n",
    "    'AgeGroup_25-35', 'AgeGroup_35-45', 'AgeGroup_45-55', 'AgeGroup_55-65',\n",
    "    'AgeGroup_65-75', 'AgeGroup_75-85', 'AgeGroup_85-95', 'TenureGroup_3-4',\n",
    "    'TenureGroup_5-6', 'TenureGroup_7-8', 'TenureGroup_9-10'\n",
    "]"
   ]
  },
  {
   "cell_type": "code",
   "execution_count": 243,
   "id": "4e6e1a20-096a-4870-9dcb-69522273614c",
   "metadata": {},
   "outputs": [],
   "source": [
    "def load_artifacts():\n",
    "    try:\n",
    "        model = joblib.load(MODEL_PATH)\n",
    "        scaler = joblib.load(SCALER_PATH)\n",
    "        label_encoder = joblib.load(LABEL_ENCODER_PATH)\n",
    "        print(\"Artifacts loaded successfully (Model, Scaler, LabelEncoder).\")\n",
    "        return model, scaler, label_encoder\n",
    "    except FileNotFoundError:\n",
    "        print(f\" Error: Required files not found at {MODEL_PATH} or {SCALER_PATH} 0r{LABEL_ENCODER_PATH}. Check your paths.\")\n",
    "        return None, None, None"
   ]
  },
  {
   "cell_type": "code",
   "execution_count": 253,
   "id": "caf1bcde-1b31-4e25-ab26-ad2bcb576edb",
   "metadata": {},
   "outputs": [],
   "source": [
    "def replicate_feature_engineering(df, label_encoder):\n",
    "    X_new = df.copy()\n",
    "\n",
    "    X_new['Gender'] = label_encoder.transform(X_new['Gender'])\n",
    "    \n",
    "\n",
    "    X_new['BalanceZero'] = (X_new['Balance'] == 0).astype(int)\n",
    "\n",
    "    X_new['AgeGroup'] = pd.cut(X_new['Age'], bins=[18, 25, 35, 45, 55, 65, 75, 85, 95],\n",
    "                               labels=['18-25', '25-35', '35-45', '45-55', '55-65', '65-75', '75-85', '85-95'],\n",
    "                               right=True, include_lowest=True)\n",
    "\n",
    "    X_new['BalanceToSalaryRatio'] = X_new['Balance'] / (X_new['EstimatedSalary'].replace(0, 1e-6))\n",
    "\n",
    "    X_new['ProductUsage'] = X_new['NumOfProducts'] * X_new['IsActiveMember']\n",
    "\n",
    "    X_new['TenureGroup'] = pd.cut(X_new['Tenure'], bins=[0, 2, 4, 6, 8, 10],\n",
    "                                 labels=['0-2', '3-4', '5-6', '7-8', '9-10'],\n",
    "                                 right=True, include_lowest=True)\n",
    "    print('feature engineering done')\n",
    "    return X_new"
   ]
  },
  {
   "cell_type": "code",
   "execution_count": 249,
   "id": "ab4dbceb-ad85-459e-8414-53985b3fbf8f",
   "metadata": {},
   "outputs": [],
   "source": [
    "def preprocess_and_align(X_engineered, scaler):\n",
    "    #  One-Hot Encoding , Scaling (Transform ONLY) is done here apart from feature engineering\n",
    "    \n",
    "    X_processed = pd.get_dummies(X_engineered, \n",
    "                                 columns=[\"Geography\", 'AgeGroup', 'TenureGroup'], \n",
    "                                 drop_first=True)\n",
    "\n",
    "    X_processed[COLS_TO_SCALE] = scaler.transform(X_processed[COLS_TO_SCALE])\n",
    "    \n",
    "    # FEATURE ALIGNMENT (CRITICAL)\n",
    "    # Add any missing dummy columns from training that aren't in the new data (set to 0)\n",
    "    missing_cols = set(FINAL_FEATURES) - set(X_processed.columns)\n",
    "    for col in missing_cols:\n",
    "        X_processed[col] = 0\n",
    "        \n",
    "    # Ensure the final DataFrame has features in the exact order the model expects\n",
    "    X_final = X_processed[FINAL_FEATURES]\n",
    "\n",
    "    print(\" Data successfully preprocessed and aligned.\")\n",
    "    return X_final"
   ]
  },
  {
   "cell_type": "code",
   "execution_count": 251,
   "id": "fa5ac5ca-a5f1-4ff6-b62c-68b445d7ab52",
   "metadata": {},
   "outputs": [],
   "source": [
    "def predict_churn(model, X_final_df):\n",
    "    \n",
    "    churn_probabilities = model.predict_proba(X_final_df)[:, 1]\n",
    "    \n",
    "    final_predictions = (churn_probabilities >= PREDICTION_THRESHOLD).astype(int)\n",
    "    \n",
    "    results = pd.DataFrame({ 'Churn_Probability': churn_probabilities,\n",
    "                            'Churn_Prediction': final_predictions }, index=X_final_df.index)\n",
    "    # 1=Will Churn, 0=Will Not Churn\n",
    "    print(f\" Predictions generated using threshold: {PREDICTION_THRESHOLD}\")\n",
    "    return results"
   ]
  },
  {
   "cell_type": "code",
   "execution_count": 255,
   "id": "e2dda69d-65ff-4570-933c-a08d0a5da117",
   "metadata": {},
   "outputs": [],
   "source": [
    "def run_pipeline(new_raw_data_df):\n",
    "    print(\"--- Starting Churn Prediction Pipeline ---\")\n",
    "    \n",
    "    # 1. Load Artifacts\n",
    "    model, scaler, label_encoder = load_artifacts()\n",
    "    if model is None or scaler is None:\n",
    "        return None\n",
    "    \n",
    "    # 2. Replicate Feature Engineering\n",
    "    X_engineered = replicate_feature_engineering(new_raw_data_df, label_encoder)\n",
    "    \n",
    "    # 3. Preprocess and Align Data\n",
    "    X_final = preprocess_and_align(X_engineered, scaler)\n",
    "    \n",
    "    # 4. Generate Predictions\n",
    "    results = predict_churn(model, X_final)\n",
    "    \n",
    "    print(\"--- Pipeline Complete ---\")\n",
    "    return results"
   ]
  },
  {
   "cell_type": "code",
   "execution_count": 257,
   "id": "27543991-b457-428a-9960-b7715683322d",
   "metadata": {},
   "outputs": [
    {
     "name": "stdout",
     "output_type": "stream",
     "text": [
      "--- Starting Churn Prediction Pipeline ---\n",
      "Artifacts loaded successfully (Model, Scaler, LabelEncoder).\n",
      "feature engineering done\n",
      " Data successfully preprocessed and aligned.\n",
      " Predictions generated using threshold: 0.5\n",
      "--- Pipeline Complete ---\n",
      "\n",
      "Prediction Results:\n",
      "   Churn_Probability  Churn_Prediction\n",
      "0               0.62                 1\n",
      "1               0.10                 0\n",
      "2               0.10                 0\n"
     ]
    }
   ],
   "source": [
    "new_raw_data = pd.DataFrame({\n",
    "    'CreditScore': [650, 800, 500],\n",
    "    'Gender': ['Male', 'Female', 'Male'],\n",
    "    'Age': [40, 60, 25],\n",
    "    'Tenure': [3, 8, 1],\n",
    "    'Balance': [120000.0, 0.0, 5000.0],\n",
    "    'NumOfProducts': [1, 2, 1],\n",
    "    'HasCrCard': [1, 1, 0],\n",
    "    'IsActiveMember': [0, 1, 0],\n",
    "    'EstimatedSalary': [60000.0, 150000.0, 90000.0],\n",
    "    'Geography': ['Germany', 'France', 'Spain'],\n",
    "})\n",
    "\n",
    "prediction_results = run_pipeline(new_raw_data)\n",
    "\n",
    "if prediction_results is not None:\n",
    "    print(\"\\nPrediction Results:\")\n",
    "    print(prediction_results)"
   ]
  }
 ],
 "metadata": {
  "colab": {
   "provenance": []
  },
  "kernelspec": {
   "display_name": "Python [conda env:base] *",
   "language": "python",
   "name": "conda-base-py"
  },
  "language_info": {
   "codemirror_mode": {
    "name": "ipython",
    "version": 3
   },
   "file_extension": ".py",
   "mimetype": "text/x-python",
   "name": "python",
   "nbconvert_exporter": "python",
   "pygments_lexer": "ipython3",
   "version": "3.12.3"
  }
 },
 "nbformat": 4,
 "nbformat_minor": 5
}
